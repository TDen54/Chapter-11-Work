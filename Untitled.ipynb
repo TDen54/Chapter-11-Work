{
 "cells": [
  {
   "cell_type": "markdown",
   "id": "0837f79d",
   "metadata": {},
   "source": [
    "#Chapter 11 Programming Exercises"
   ]
  },
  {
   "cell_type": "markdown",
   "id": "04013961",
   "metadata": {},
   "source": [
    "##Question 1"
   ]
  },
  {
   "cell_type": "code",
   "execution_count": 3,
   "id": "79d195e5",
   "metadata": {},
   "outputs": [
    {
     "name": "stdout",
     "output_type": "stream",
     "text": [
      "Employee 1 Name: Patrick Mahomes\n",
      "Employee 1 Number: 12345\n",
      "\n",
      "Employee 2 Name: Travis Kelce\n",
      "Employee 2 Number: 67890\n"
     ]
    }
   ],
   "source": [
    "class Employee:\n",
    "    def __init__(self, name, employee_number):\n",
    "        self.name = name\n",
    "        self.employee_number = employee_number\n",
    "\n",
    "def main():\n",
    "    # instances of the Employee class\n",
    "    employee1 = Employee(\"Patrick Mahomes\", \"12345\")\n",
    "    employee2 = Employee(\"Travis Kelce\", \"67890\")\n",
    "\n",
    "    # print employee information\n",
    "    print(\"Employee 1 Name:\", employee1.name)\n",
    "    print(\"Employee 1 Number:\", employee1.employee_number)\n",
    "\n",
    "    print(\"\\nEmployee 2 Name:\", employee2.name)\n",
    "    print(\"Employee 2 Number:\", employee2.employee_number)\n",
    "\n",
    "if __name__ == \"__main__\":\n",
    "    \n",
    "    main()\n"
   ]
  },
  {
   "cell_type": "code",
   "execution_count": 7,
   "id": "f437ca4d",
   "metadata": {},
   "outputs": [
    {
     "name": "stdout",
     "output_type": "stream",
     "text": [
      "Hourly Employee 1 Name: Patrick Mahomes\n",
      "Hourly Employee 1 Number: 12345\n",
      "Hourly Employee 1 Shift Number: 1\n",
      "Hourly Employee 1 Hourly Pay Rate: 15.0\n",
      "\n",
      "Hourly Employee 2 Name: Travis Kelce\n",
      "Hourly Employee 2 Number: 67890\n",
      "Hourly Employee 2 Shift Number: 2\n",
      "Hourly Employee 2 Hourly Pay Rate: 18.0\n"
     ]
    }
   ],
   "source": [
    "class Employee:\n",
    "    def __init__(self, name, employee_number):\n",
    "        self.name = name\n",
    "        self.employee_number = employee_number\n",
    "\n",
    "class HourlyEmployee(Employee):  \n",
    "    def __init__(self, name, employee_number, shift_number, hourly_pay_rate):\n",
    "        # constructor of the parent class (Employee)\n",
    "        super().__init__(name, employee_number)\n",
    "\n",
    "        # Add new attributes specific to HourlyEmployee\n",
    "        self.shift_number = shift_number\n",
    "        self.hourly_pay_rate = hourly_pay_rate\n",
    "\n",
    "def main():\n",
    "    #  instances of the HourlyEmployee class\n",
    "    hourly_employee1 = HourlyEmployee(\"Patrick Mahomes\", \"12345\", 1, 15.0)\n",
    "    hourly_employee2 = HourlyEmployee(\"Travis Kelce\", \"67890\", 2, 18.0)\n",
    "\n",
    "    #  print employee information, including new attributes\n",
    "    print(\"Hourly Employee 1 Name:\", hourly_employee1.name)\n",
    "    print(\"Hourly Employee 1 Number:\", hourly_employee1.employee_number)\n",
    "    print(\"Hourly Employee 1 Shift Number:\", hourly_employee1.shift_number)\n",
    "    print(\"Hourly Employee 1 Hourly Pay Rate:\", hourly_employee1.hourly_pay_rate)\n",
    "\n",
    "    print(\"\\nHourly Employee 2 Name:\", hourly_employee2.name)\n",
    "    print(\"Hourly Employee 2 Number:\", hourly_employee2.employee_number)\n",
    "    print(\"Hourly Employee 2 Shift Number:\", hourly_employee2.shift_number)\n",
    "    print(\"Hourly Employee 2 Hourly Pay Rate:\", hourly_employee2.hourly_pay_rate)\n",
    "\n",
    "if __name__ == \"__main__\":\n",
    "   \n",
    "    main()\n"
   ]
  },
  {
   "cell_type": "code",
   "execution_count": 6,
   "id": "03141f62",
   "metadata": {},
   "outputs": [
    {
     "name": "stdout",
     "output_type": "stream",
     "text": [
      "Enter employee name: Patrick Mahomes\n",
      "Enter employee number: 123456\n",
      "Enter shift number (1 for day shift, 2 for night shift): 1\n",
      "Enter hourly pay rate: 22\n",
      "\n",
      "Employee Information:\n",
      "Name: Patrick Mahomes\n",
      "Employee Number: 123456\n",
      "Shift Number: 1\n",
      "Hourly Pay Rate: 22.0\n"
     ]
    }
   ],
   "source": [
    "class Employee:\n",
    "    def __init__(self, name, employee_number):\n",
    "        self.name = name\n",
    "        self.employee_number = employee_number\n",
    "\n",
    "class HourlyEmployee(Employee):\n",
    "    def __init__(self, name, employee_number, shift_number, hourly_pay_rate):\n",
    "        super().__init__(name, employee_number)\n",
    "        self.shift_number = shift_number\n",
    "        self.hourly_pay_rate = hourly_pay_rate\n",
    "\n",
    "    # Accessor method for shift_number\n",
    "    def get_shift_number(self):\n",
    "        return self.shift_number\n",
    "\n",
    "    # Mutator method for shift_number\n",
    "    def set_shift_number(self, shift_number):\n",
    "        if shift_number in [1, 2]:\n",
    "            self.shift_number = shift_number\n",
    "        else:\n",
    "            print(\"Invalid shift number. Please enter 1 for day shift or 2 for night shift.\")\n",
    "\n",
    "    # Accessor method for hourly_pay_rate\n",
    "    def get_hourly_pay_rate(self):\n",
    "        return self.hourly_pay_rate\n",
    "\n",
    "    # Mutator method for hourly_pay_rate\n",
    "    def set_hourly_pay_rate(self, hourly_pay_rate):\n",
    "        if hourly_pay_rate >= 0:\n",
    "            self.hourly_pay_rate = hourly_pay_rate\n",
    "        else:\n",
    "            print(\"Invalid hourly pay rate. Please enter a non-negative value.\")\n",
    "\n",
    "def main():\n",
    "    # instance of the HourlyEmployee class\n",
    "    hourly_employee = HourlyEmployee(\"\", \"\", 0, 0.0)\n",
    "\n",
    "    # enter data\n",
    "    hourly_employee.name = input(\"Enter employee name: \")\n",
    "    hourly_employee.employee_number = input(\"Enter employee number: \")\n",
    "    \n",
    "    # shift number input\n",
    "    shift_input = int(input(\"Enter shift number (1 for day shift, 2 for night shift): \"))\n",
    "    hourly_employee.set_shift_number(shift_input)\n",
    "\n",
    "    # hourly pay rate input\n",
    "    hourly_rate_input = float(input(\"Enter hourly pay rate: \"))\n",
    "    hourly_employee.set_hourly_pay_rate(hourly_rate_input)\n",
    "\n",
    "    # Display employee information\n",
    "    print(\"\\nEmployee Information:\")\n",
    "    print(\"Name:\", hourly_employee.name)\n",
    "    print(\"Employee Number:\", hourly_employee.employee_number)\n",
    "    print(\"Shift Number:\", hourly_employee.get_shift_number())\n",
    "    print(\"Hourly Pay Rate:\", hourly_employee.get_hourly_pay_rate())\n",
    "\n",
    "if __name__ == \"__main__\":\n",
    "   \n",
    "    main()\n",
    "\n",
    "    "
   ]
  },
  {
   "cell_type": "markdown",
   "id": "97addfee",
   "metadata": {},
   "source": [
    "##Question 3"
   ]
  },
  {
   "cell_type": "code",
   "execution_count": 10,
   "id": "e8656686",
   "metadata": {},
   "outputs": [
    {
     "name": "stdout",
     "output_type": "stream",
     "text": [
      "Customer Information:\n",
      "Name: Trevor Dennis\n",
      "Address: 123 Drury Ln\n",
      "Telephone Number: 123-4567\n",
      "Customer Number: C12345\n",
      "On Mailing List Yes\n"
     ]
    }
   ],
   "source": [
    "class Person:\n",
    "    def __init__(self, name, address, telephone_number):\n",
    "        self.name = name\n",
    "        self.address = address\n",
    "        self.telephone_number = telephone_number\n",
    "\n",
    "class Customer(Person):\n",
    "    def __init__(self, name, address, telephone_number, customer_number, on_mailing_list):\n",
    "        super().__init__(name, address, telephone_number)\n",
    "        self.customer_number = customer_number\n",
    "        self.on_mailing_list = on_mailing_list\n",
    "\n",
    "def main():\n",
    "    \n",
    "    customer = Customer(\"Trevor Dennis\", \"123 Drury Ln\", \"123-4567\", \"C12345\", True)\n",
    "    \n",
    "    print(\"Customer Information:\")\n",
    "    print(\"Name:\", customer.name)\n",
    "    print(\"Address:\", customer.address)\n",
    "    print(\"Telephone Number:\", customer.telephone_number)\n",
    "    print(\"Customer Number:\", customer.customer_number)\n",
    "    print(\"On Mailing List\", \"Yes\" if customer.on_mailing_list else \"No\")\n",
    "    \n",
    "if __name__ == \"__main__\":\n",
    "    \n",
    "    main()\n"
   ]
  },
  {
   "cell_type": "code",
   "execution_count": null,
   "id": "ec09756a",
   "metadata": {},
   "outputs": [],
   "source": []
  }
 ],
 "metadata": {
  "kernelspec": {
   "display_name": "Python 3 (ipykernel)",
   "language": "python",
   "name": "python3"
  },
  "language_info": {
   "codemirror_mode": {
    "name": "ipython",
    "version": 3
   },
   "file_extension": ".py",
   "mimetype": "text/x-python",
   "name": "python",
   "nbconvert_exporter": "python",
   "pygments_lexer": "ipython3",
   "version": "3.11.4"
  }
 },
 "nbformat": 4,
 "nbformat_minor": 5
}
